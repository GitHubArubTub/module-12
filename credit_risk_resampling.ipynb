{
 "cells": [
  {
   "cell_type": "markdown",
   "metadata": {},
   "source": [
    "# Credit Risk Classification\n",
    "\n",
    "Credit risk poses a classification problem that’s inherently imbalanced. This is because healthy loans easily outnumber risky loans. In this Challenge, you’ll use various techniques to train and evaluate models with imbalanced classes. You’ll use a dataset of historical lending activity from a peer-to-peer lending services company to build a model that can identify the creditworthiness of borrowers.\n",
    "\n",
    "## Instructions:\n",
    "\n",
    "This challenge consists of the following subsections:\n",
    "\n",
    "* Split the Data into Training and Testing Sets\n",
    "\n",
    "* Create a Logistic Regression Model with the Original Data\n",
    "\n",
    "* Predict a Logistic Regression Model with Resampled Training Data \n",
    "\n",
    "### Split the Data into Training and Testing Sets\n",
    "\n",
    "Open the starter code notebook and then use it to complete the following steps.\n",
    "\n",
    "1. Read the `lending_data.csv` data from the `Resources` folder into a Pandas DataFrame.\n",
    "\n",
    "2. Create the labels set (`y`)  from the “loan_status” column, and then create the features (`X`) DataFrame from the remaining columns.\n",
    "\n",
    "    > **Note** A value of `0` in the “loan_status” column means that the loan is healthy. A value of `1` means that the loan has a high risk of defaulting.  \n",
    "\n",
    "3. Check the balance of the labels variable (`y`) by using the `value_counts` function.\n",
    "\n",
    "4. Split the data into training and testing datasets by using `train_test_split`.\n",
    "\n",
    "### Create a Logistic Regression Model with the Original Data\n",
    "\n",
    "Employ your knowledge of logistic regression to complete the following steps:\n",
    "\n",
    "1. Fit a logistic regression model by using the training data (`X_train` and `y_train`).\n",
    "\n",
    "2. Save the predictions on the testing data labels by using the testing feature data (`X_test`) and the fitted model.\n",
    "\n",
    "3. Evaluate the model’s performance by doing the following:\n",
    "\n",
    "    * Calculate the accuracy score of the model.\n",
    "\n",
    "    * Generate a confusion matrix.\n",
    "\n",
    "    * Print the classification report.\n",
    "\n",
    "4. Answer the following question: How well does the logistic regression model predict both the `0` (healthy loan) and `1` (high-risk loan) labels?\n",
    "\n",
    "### Predict a Logistic Regression Model with Resampled Training Data\n",
    "\n",
    "Did you notice the small number of high-risk loan labels? Perhaps, a model that uses resampled data will perform better. You’ll thus resample the training data and then reevaluate the model. Specifically, you’ll use `RandomOverSampler`.\n",
    "\n",
    "To do so, complete the following steps:\n",
    "\n",
    "1. Use the `RandomOverSampler` module from the imbalanced-learn library to resample the data. Be sure to confirm that the labels have an equal number of data points. \n",
    "\n",
    "2. Use the `LogisticRegression` classifier and the resampled data to fit the model and make predictions.\n",
    "\n",
    "3. Evaluate the model’s performance by doing the following:\n",
    "\n",
    "    * Calculate the accuracy score of the model.\n",
    "\n",
    "    * Generate a confusion matrix.\n",
    "\n",
    "    * Print the classification report.\n",
    "    \n",
    "4. Answer the following question: How well does the logistic regression model, fit with oversampled data, predict both the `0` (healthy loan) and `1` (high-risk loan) labels?\n",
    "\n",
    "### Write a Credit Risk Analysis Report\n",
    "\n",
    "For this section, you’ll write a brief report that includes a summary and an analysis of the performance of both machine learning models that you used in this challenge. You should write this report as the `README.md` file included in your GitHub repository.\n",
    "\n",
    "Structure your report by using the report template that `Starter_Code.zip` includes, and make sure that it contains the following:\n",
    "\n",
    "1. An overview of the analysis: Explain the purpose of this analysis.\n",
    "\n",
    "\n",
    "2. The results: Using bulleted lists, describe the balanced accuracy scores and the precision and recall scores of both machine learning models.\n",
    "\n",
    "3. A summary: Summarize the results from the machine learning models. Compare the two versions of the dataset predictions. Include your recommendation for the model to use, if any, on the original vs. the resampled data. If you don’t recommend either model, justify your reasoning."
   ]
  },
  {
   "cell_type": "code",
   "execution_count": null,
   "metadata": {},
   "outputs": [],
   "source": [
    "!conda update scikit-learn\n",
    "!conda update imbalanced-learn\n"
   ]
  },
  {
   "cell_type": "code",
   "execution_count": 4,
   "metadata": {
    "tags": []
   },
   "outputs": [
    {
     "name": "stdout",
     "output_type": "stream",
     "text": [
      "Requirement already satisfied: numpy in c:\\users\\ramzi\\anaconda3\\envs\\reset_env\\lib\\site-packages (1.25.2)\n",
      "Collecting pandas\n",
      "  Obtaining dependency information for pandas from https://files.pythonhosted.org/packages/9e/71/756a1be6bee0209d8c0d8c5e3b9fc72c00373f384a4017095ec404aec3ad/pandas-2.0.3-cp311-cp311-win_amd64.whl.metadata\n",
      "  Downloading pandas-2.0.3-cp311-cp311-win_amd64.whl.metadata (18 kB)\n",
      "Requirement already satisfied: python-dateutil>=2.8.2 in c:\\users\\ramzi\\anaconda3\\envs\\reset_env\\lib\\site-packages (from pandas) (2.8.2)\n",
      "Requirement already satisfied: pytz>=2020.1 in c:\\users\\ramzi\\anaconda3\\envs\\reset_env\\lib\\site-packages (from pandas) (2022.7)\n",
      "Collecting tzdata>=2022.1 (from pandas)\n",
      "  Using cached tzdata-2023.3-py2.py3-none-any.whl (341 kB)\n",
      "Requirement already satisfied: numpy>=1.21.0 in c:\\users\\ramzi\\anaconda3\\envs\\reset_env\\lib\\site-packages (from pandas) (1.25.2)\n",
      "Requirement already satisfied: six>=1.5 in c:\\users\\ramzi\\anaconda3\\envs\\reset_env\\lib\\site-packages (from python-dateutil>=2.8.2->pandas) (1.16.0)\n",
      "Downloading pandas-2.0.3-cp311-cp311-win_amd64.whl (10.6 MB)\n",
      "   ---------------------------------------- 0.0/10.6 MB ? eta -:--:--\n",
      "   ---------------------------------------- 0.0/10.6 MB ? eta -:--:--\n",
      "   ---------------------------------------- 0.1/10.6 MB 1.2 MB/s eta 0:00:10\n",
      "   - -------------------------------------- 0.4/10.6 MB 3.5 MB/s eta 0:00:03\n",
      "   -- ------------------------------------- 0.7/10.6 MB 4.7 MB/s eta 0:00:03\n",
      "   --- ------------------------------------ 1.0/10.6 MB 5.4 MB/s eta 0:00:02\n",
      "   ---- ----------------------------------- 1.3/10.6 MB 5.2 MB/s eta 0:00:02\n",
      "   ----- ---------------------------------- 1.6/10.6 MB 5.2 MB/s eta 0:00:02\n",
      "   ------- -------------------------------- 1.9/10.6 MB 5.6 MB/s eta 0:00:02\n",
      "   -------- ------------------------------- 2.3/10.6 MB 5.8 MB/s eta 0:00:02\n",
      "   --------- ------------------------------ 2.6/10.6 MB 6.0 MB/s eta 0:00:02\n",
      "   ----------- ---------------------------- 3.0/10.6 MB 6.1 MB/s eta 0:00:02\n",
      "   ----------- ---------------------------- 3.0/10.6 MB 5.9 MB/s eta 0:00:02\n",
      "   ------------- -------------------------- 3.7/10.6 MB 6.3 MB/s eta 0:00:02\n",
      "   --------------- ------------------------ 4.0/10.6 MB 6.4 MB/s eta 0:00:02\n",
      "   ---------------- ----------------------- 4.4/10.6 MB 6.5 MB/s eta 0:00:01\n",
      "   ----------------- ---------------------- 4.7/10.6 MB 6.7 MB/s eta 0:00:01\n",
      "   ------------------- -------------------- 5.1/10.6 MB 6.6 MB/s eta 0:00:01\n",
      "   -------------------- ------------------- 5.3/10.6 MB 6.7 MB/s eta 0:00:01\n",
      "   --------------------- ------------------ 5.7/10.6 MB 6.7 MB/s eta 0:00:01\n",
      "   ---------------------- ----------------- 6.0/10.6 MB 6.7 MB/s eta 0:00:01\n",
      "   ----------------------- ---------------- 6.3/10.6 MB 6.7 MB/s eta 0:00:01\n",
      "   ------------------------- -------------- 6.7/10.6 MB 6.8 MB/s eta 0:00:01\n",
      "   -------------------------- ------------- 7.0/10.6 MB 6.8 MB/s eta 0:00:01\n",
      "   --------------------------- ------------ 7.4/10.6 MB 6.8 MB/s eta 0:00:01\n",
      "   ----------------------------- ---------- 7.7/10.6 MB 6.9 MB/s eta 0:00:01\n",
      "   ------------------------------ --------- 8.0/10.6 MB 6.9 MB/s eta 0:00:01\n",
      "   ------------------------------- -------- 8.4/10.6 MB 6.9 MB/s eta 0:00:01\n",
      "   -------------------------------- ------- 8.7/10.6 MB 6.9 MB/s eta 0:00:01\n",
      "   ---------------------------------- ----- 9.1/10.6 MB 6.9 MB/s eta 0:00:01\n",
      "   ----------------------------------- ---- 9.4/10.6 MB 6.9 MB/s eta 0:00:01\n",
      "   ------------------------------------ --- 9.7/10.6 MB 6.9 MB/s eta 0:00:01\n",
      "   -------------------------------------- - 10.1/10.6 MB 6.9 MB/s eta 0:00:01\n",
      "   ---------------------------------------  10.4/10.6 MB 7.3 MB/s eta 0:00:01\n",
      "   ---------------------------------------  10.6/10.6 MB 7.3 MB/s eta 0:00:01\n",
      "   ---------------------------------------  10.6/10.6 MB 7.3 MB/s eta 0:00:01\n",
      "   ---------------------------------------- 10.6/10.6 MB 6.7 MB/s eta 0:00:00\n",
      "Installing collected packages: tzdata, pandas\n",
      "Successfully installed pandas-2.0.3 tzdata-2023.3\n",
      "Collecting scikit-learn\n",
      "  Obtaining dependency information for scikit-learn from https://files.pythonhosted.org/packages/77/85/bff3a1e818ec6aa3dd466ff4f4b0a727db9fdb41f2e849747ad902ddbe95/scikit_learn-1.3.0-cp311-cp311-win_amd64.whl.metadata\n",
      "  Downloading scikit_learn-1.3.0-cp311-cp311-win_amd64.whl.metadata (11 kB)\n",
      "Requirement already satisfied: numpy>=1.17.3 in c:\\users\\ramzi\\anaconda3\\envs\\reset_env\\lib\\site-packages (from scikit-learn) (1.25.2)\n",
      "Collecting scipy>=1.5.0 (from scikit-learn)\n",
      "  Obtaining dependency information for scipy>=1.5.0 from https://files.pythonhosted.org/packages/04/b8/947f40706ee2e316fd1a191688f690c4c2b351c2d043fe9deb9b7940e36e/scipy-1.11.1-cp311-cp311-win_amd64.whl.metadata\n",
      "  Downloading scipy-1.11.1-cp311-cp311-win_amd64.whl.metadata (59 kB)\n",
      "     ---------------------------------------- 0.0/59.1 kB ? eta -:--:--\n",
      "     ------ --------------------------------- 10.2/59.1 kB ? eta -:--:--\n",
      "     -------------------------------- ----- 51.2/59.1 kB 650.2 kB/s eta 0:00:01\n",
      "     -------------------------------------- 59.1/59.1 kB 619.0 kB/s eta 0:00:00\n",
      "Collecting joblib>=1.1.1 (from scikit-learn)\n",
      "  Obtaining dependency information for joblib>=1.1.1 from https://files.pythonhosted.org/packages/28/08/9dcdaa5aac4634e4c23af26d92121f7ce445c630efa0d3037881ae2407fb/joblib-1.3.1-py3-none-any.whl.metadata\n",
      "  Downloading joblib-1.3.1-py3-none-any.whl.metadata (5.4 kB)\n",
      "Collecting threadpoolctl>=2.0.0 (from scikit-learn)\n",
      "  Obtaining dependency information for threadpoolctl>=2.0.0 from https://files.pythonhosted.org/packages/81/12/fd4dea011af9d69e1cad05c75f3f7202cdcbeac9b712eea58ca779a72865/threadpoolctl-3.2.0-py3-none-any.whl.metadata\n",
      "  Downloading threadpoolctl-3.2.0-py3-none-any.whl.metadata (10.0 kB)\n",
      "Downloading scikit_learn-1.3.0-cp311-cp311-win_amd64.whl (9.2 MB)\n",
      "   ---------------------------------------- 0.0/9.2 MB ? eta -:--:--\n",
      "    --------------------------------------- 0.2/9.2 MB 4.6 MB/s eta 0:00:02\n",
      "   -- ------------------------------------- 0.6/9.2 MB 5.9 MB/s eta 0:00:02\n",
      "   ---- ----------------------------------- 0.9/9.2 MB 6.5 MB/s eta 0:00:02\n",
      "   ----- ---------------------------------- 1.3/9.2 MB 6.8 MB/s eta 0:00:02\n",
      "   ------- -------------------------------- 1.6/9.2 MB 6.8 MB/s eta 0:00:02\n",
      "   -------- ------------------------------- 2.0/9.2 MB 6.9 MB/s eta 0:00:02\n",
      "   ---------- ----------------------------- 2.3/9.2 MB 7.0 MB/s eta 0:00:01\n",
      "   ----------- ---------------------------- 2.7/9.2 MB 7.0 MB/s eta 0:00:01\n",
      "   ------------- -------------------------- 3.0/9.2 MB 7.1 MB/s eta 0:00:01\n",
      "   -------------- ------------------------- 3.4/9.2 MB 7.4 MB/s eta 0:00:01\n",
      "   ---------------- ----------------------- 3.7/9.2 MB 7.4 MB/s eta 0:00:01\n",
      "   ----------------- ---------------------- 4.1/9.2 MB 7.4 MB/s eta 0:00:01\n",
      "   ------------------- -------------------- 4.4/9.2 MB 7.4 MB/s eta 0:00:01\n",
      "   -------------------- ------------------- 4.8/9.2 MB 7.4 MB/s eta 0:00:01\n",
      "   ---------------------- ----------------- 5.1/9.2 MB 7.4 MB/s eta 0:00:01\n",
      "   ----------------------- ---------------- 5.4/9.2 MB 7.4 MB/s eta 0:00:01\n",
      "   ------------------------- -------------- 5.8/9.2 MB 7.4 MB/s eta 0:00:01\n",
      "   -------------------------- ------------- 6.0/9.2 MB 7.3 MB/s eta 0:00:01\n",
      "   --------------------------- ------------ 6.4/9.2 MB 7.3 MB/s eta 0:00:01\n",
      "   ----------------------------- ---------- 6.9/9.2 MB 7.2 MB/s eta 0:00:01\n",
      "   ------------------------------- -------- 7.2/9.2 MB 7.2 MB/s eta 0:00:01\n",
      "   --------------------------------- ------ 7.6/9.2 MB 7.2 MB/s eta 0:00:01\n",
      "   ---------------------------------- ----- 8.0/9.2 MB 7.3 MB/s eta 0:00:01\n",
      "   ------------------------------------ --- 8.3/9.2 MB 7.3 MB/s eta 0:00:01\n",
      "   ------------------------------------- -- 8.6/9.2 MB 7.4 MB/s eta 0:00:01\n",
      "   ---------------------------------------  9.0/9.2 MB 7.4 MB/s eta 0:00:01\n",
      "   ---------------------------------------  9.2/9.2 MB 7.3 MB/s eta 0:00:01\n",
      "   ---------------------------------------  9.2/9.2 MB 7.3 MB/s eta 0:00:01\n",
      "   ---------------------------------------  9.2/9.2 MB 7.3 MB/s eta 0:00:01\n",
      "   ---------------------------------------  9.2/9.2 MB 7.3 MB/s eta 0:00:01\n",
      "   ---------------------------------------  9.2/9.2 MB 7.3 MB/s eta 0:00:01\n",
      "   ---------------------------------------  9.2/9.2 MB 7.3 MB/s eta 0:00:01\n",
      "   ---------------------------------------  9.2/9.2 MB 7.3 MB/s eta 0:00:01\n",
      "   ---------------------------------------  9.2/9.2 MB 7.3 MB/s eta 0:00:01\n",
      "   ---------------------------------------  9.2/9.2 MB 7.3 MB/s eta 0:00:01\n",
      "   ---------------------------------------  9.2/9.2 MB 7.3 MB/s eta 0:00:01\n",
      "   ---------------------------------------  9.2/9.2 MB 7.3 MB/s eta 0:00:01\n",
      "   ---------------------------------------  9.2/9.2 MB 7.3 MB/s eta 0:00:01\n",
      "   ---------------------------------------  9.2/9.2 MB 7.3 MB/s eta 0:00:01\n",
      "   ---------------------------------------  9.2/9.2 MB 7.3 MB/s eta 0:00:01\n",
      "   ---------------------------------------  9.2/9.2 MB 7.3 MB/s eta 0:00:01\n",
      "   ---------------------------------------  9.2/9.2 MB 7.3 MB/s eta 0:00:01\n",
      "   ---------------------------------------  9.2/9.2 MB 7.3 MB/s eta 0:00:01\n",
      "   ---------------------------------------  9.2/9.2 MB 7.3 MB/s eta 0:00:01\n",
      "   ---------------------------------------  9.2/9.2 MB 7.3 MB/s eta 0:00:01\n",
      "   ---------------------------------------  9.2/9.2 MB 7.3 MB/s eta 0:00:01\n",
      "   ---------------------------------------- 9.2/9.2 MB 4.2 MB/s eta 0:00:00\n",
      "Downloading joblib-1.3.1-py3-none-any.whl (301 kB)\n",
      "   ---------------------------------------- 0.0/302.0 kB ? eta -:--:--\n",
      "   ---------------------------------------  297.0/302.0 kB 9.2 MB/s eta 0:00:01\n",
      "   ---------------------------------------  297.0/302.0 kB 9.2 MB/s eta 0:00:01\n",
      "   ---------------------------------------  297.0/302.0 kB 9.2 MB/s eta 0:00:01\n",
      "   ---------------------------------------- 302.0/302.0 kB 1.7 MB/s eta 0:00:00\n",
      "Downloading scipy-1.11.1-cp311-cp311-win_amd64.whl (44.0 MB)\n",
      "   ---------------------------------------- 0.0/44.0 MB ? eta -:--:--\n",
      "   ---------------------------------------- 0.3/44.0 MB 10.2 MB/s eta 0:00:05\n",
      "    --------------------------------------- 0.7/44.0 MB 8.5 MB/s eta 0:00:06\n",
      "    --------------------------------------- 1.0/44.0 MB 8.3 MB/s eta 0:00:06\n",
      "   - -------------------------------------- 1.4/44.0 MB 8.1 MB/s eta 0:00:06\n",
      "   - -------------------------------------- 1.8/44.0 MB 7.9 MB/s eta 0:00:06\n",
      "   - -------------------------------------- 2.1/44.0 MB 7.9 MB/s eta 0:00:06\n",
      "   -- ------------------------------------- 2.5/44.0 MB 7.8 MB/s eta 0:00:06\n",
      "   -- ------------------------------------- 2.8/44.0 MB 7.8 MB/s eta 0:00:06\n",
      "   -- ------------------------------------- 3.0/44.0 MB 7.4 MB/s eta 0:00:06\n",
      "   --- ------------------------------------ 3.5/44.0 MB 7.7 MB/s eta 0:00:06\n",
      "   --- ------------------------------------ 3.9/44.0 MB 7.7 MB/s eta 0:00:06\n",
      "   --- ------------------------------------ 4.2/44.0 MB 7.6 MB/s eta 0:00:06\n",
      "   ---- ----------------------------------- 4.6/44.0 MB 7.7 MB/s eta 0:00:06\n",
      "   ---- ----------------------------------- 4.9/44.0 MB 7.6 MB/s eta 0:00:06\n",
      "   ---- ----------------------------------- 5.3/44.0 MB 7.6 MB/s eta 0:00:06\n",
      "   ----- ---------------------------------- 5.6/44.0 MB 7.6 MB/s eta 0:00:06\n",
      "   ----- ---------------------------------- 5.9/44.0 MB 7.6 MB/s eta 0:00:05\n",
      "   ----- ---------------------------------- 6.1/44.0 MB 7.6 MB/s eta 0:00:05\n",
      "   ------ --------------------------------- 6.6/44.0 MB 7.7 MB/s eta 0:00:05\n",
      "   ------ --------------------------------- 7.0/44.0 MB 7.7 MB/s eta 0:00:05\n",
      "   ------ --------------------------------- 7.3/44.0 MB 7.7 MB/s eta 0:00:05\n",
      "   ------ --------------------------------- 7.7/44.0 MB 7.7 MB/s eta 0:00:05\n",
      "   ------- -------------------------------- 8.0/44.0 MB 7.6 MB/s eta 0:00:05\n",
      "   ------- -------------------------------- 8.4/44.0 MB 7.6 MB/s eta 0:00:05\n",
      "   ------- -------------------------------- 8.7/44.0 MB 7.6 MB/s eta 0:00:05\n",
      "   -------- ------------------------------- 9.1/44.0 MB 7.6 MB/s eta 0:00:05\n",
      "   -------- ------------------------------- 9.4/44.0 MB 7.6 MB/s eta 0:00:05\n",
      "   -------- ------------------------------- 9.7/44.0 MB 7.6 MB/s eta 0:00:05\n",
      "   --------- ------------------------------ 10.1/44.0 MB 7.6 MB/s eta 0:00:05\n",
      "   --------- ------------------------------ 10.4/44.0 MB 7.5 MB/s eta 0:00:05\n",
      "   --------- ------------------------------ 10.7/44.0 MB 7.5 MB/s eta 0:00:05\n",
      "   ---------- ----------------------------- 11.1/44.0 MB 7.6 MB/s eta 0:00:05\n",
      "   ---------- ----------------------------- 11.4/44.0 MB 7.6 MB/s eta 0:00:05\n",
      "   ---------- ----------------------------- 11.8/44.0 MB 7.6 MB/s eta 0:00:05\n",
      "   ----------- ---------------------------- 12.1/44.0 MB 7.6 MB/s eta 0:00:05\n",
      "   ----------- ---------------------------- 12.5/44.0 MB 7.5 MB/s eta 0:00:05\n",
      "   ----------- ---------------------------- 12.8/44.0 MB 7.5 MB/s eta 0:00:05\n",
      "   ----------- ---------------------------- 13.2/44.0 MB 7.7 MB/s eta 0:00:04\n",
      "   ------------ --------------------------- 13.5/44.0 MB 7.5 MB/s eta 0:00:05\n",
      "   ------------ --------------------------- 13.9/44.0 MB 7.5 MB/s eta 0:00:04\n",
      "   ------------ --------------------------- 14.2/44.0 MB 7.5 MB/s eta 0:00:04\n",
      "   ------------- -------------------------- 14.6/44.0 MB 7.5 MB/s eta 0:00:04\n",
      "   ------------- -------------------------- 14.9/44.0 MB 7.6 MB/s eta 0:00:04\n",
      "   ------------- -------------------------- 15.2/44.0 MB 7.5 MB/s eta 0:00:04\n",
      "   -------------- ------------------------- 15.6/44.0 MB 7.5 MB/s eta 0:00:04\n",
      "   -------------- ------------------------- 15.9/44.0 MB 7.6 MB/s eta 0:00:04\n",
      "   -------------- ------------------------- 16.3/44.0 MB 7.6 MB/s eta 0:00:04\n",
      "   --------------- ------------------------ 16.6/44.0 MB 7.5 MB/s eta 0:00:04\n",
      "   --------------- ------------------------ 17.0/44.0 MB 7.5 MB/s eta 0:00:04\n",
      "   --------------- ------------------------ 17.3/44.0 MB 7.5 MB/s eta 0:00:04\n",
      "   ---------------- ----------------------- 17.6/44.0 MB 7.5 MB/s eta 0:00:04\n",
      "   ---------------- ----------------------- 18.0/44.0 MB 7.5 MB/s eta 0:00:04\n",
      "   ---------------- ----------------------- 18.4/44.0 MB 7.5 MB/s eta 0:00:04\n",
      "   ----------------- ---------------------- 18.7/44.0 MB 7.5 MB/s eta 0:00:04\n",
      "   ----------------- ---------------------- 19.0/44.0 MB 7.5 MB/s eta 0:00:04\n",
      "   ----------------- ---------------------- 19.3/44.0 MB 7.5 MB/s eta 0:00:04\n",
      "   ----------------- ---------------------- 19.7/44.0 MB 7.5 MB/s eta 0:00:04\n",
      "   ------------------ --------------------- 20.1/44.0 MB 7.5 MB/s eta 0:00:04\n",
      "   ------------------ --------------------- 20.4/44.0 MB 7.5 MB/s eta 0:00:04\n",
      "   ------------------ --------------------- 20.7/44.0 MB 7.4 MB/s eta 0:00:04\n",
      "   ------------------- -------------------- 21.1/44.0 MB 7.6 MB/s eta 0:00:04\n",
      "   ------------------- -------------------- 21.2/44.0 MB 7.5 MB/s eta 0:00:04\n",
      "   ------------------- -------------------- 21.8/44.0 MB 7.5 MB/s eta 0:00:03\n",
      "   -------------------- ------------------- 22.1/44.0 MB 7.5 MB/s eta 0:00:03\n",
      "   -------------------- ------------------- 22.5/44.0 MB 7.5 MB/s eta 0:00:03\n",
      "   -------------------- ------------------- 22.8/44.0 MB 7.5 MB/s eta 0:00:03\n",
      "   -------------------- ------------------- 23.1/44.0 MB 7.4 MB/s eta 0:00:03\n",
      "   --------------------- ------------------ 23.3/44.0 MB 7.4 MB/s eta 0:00:03\n",
      "   --------------------- ------------------ 23.7/44.0 MB 7.4 MB/s eta 0:00:03\n",
      "   --------------------- ------------------ 24.1/44.0 MB 7.4 MB/s eta 0:00:03\n",
      "   ---------------------- ----------------- 24.4/44.0 MB 7.4 MB/s eta 0:00:03\n",
      "   ---------------------- ----------------- 24.7/44.0 MB 7.4 MB/s eta 0:00:03\n",
      "   ---------------------- ----------------- 25.1/44.0 MB 7.4 MB/s eta 0:00:03\n",
      "   ----------------------- ---------------- 25.4/44.0 MB 7.4 MB/s eta 0:00:03\n",
      "   ----------------------- ---------------- 25.8/44.0 MB 7.4 MB/s eta 0:00:03\n",
      "   ----------------------- ---------------- 26.1/44.0 MB 7.4 MB/s eta 0:00:03\n",
      "   ------------------------ --------------- 26.4/44.0 MB 7.4 MB/s eta 0:00:03\n",
      "   ------------------------ --------------- 26.8/44.0 MB 7.4 MB/s eta 0:00:03\n",
      "   ------------------------ --------------- 27.1/44.0 MB 7.4 MB/s eta 0:00:03\n",
      "   ------------------------- -------------- 27.5/44.0 MB 7.4 MB/s eta 0:00:03\n",
      "   ------------------------- -------------- 27.8/44.0 MB 7.4 MB/s eta 0:00:03\n",
      "   ------------------------- -------------- 28.2/44.0 MB 7.4 MB/s eta 0:00:03\n",
      "   ------------------------- -------------- 28.4/44.0 MB 7.4 MB/s eta 0:00:03\n",
      "   -------------------------- ------------- 28.7/44.0 MB 7.4 MB/s eta 0:00:03\n",
      "   -------------------------- ------------- 29.0/44.0 MB 7.4 MB/s eta 0:00:03\n",
      "   -------------------------- ------------- 29.4/44.0 MB 7.3 MB/s eta 0:00:02\n",
      "   --------------------------- ------------ 29.8/44.0 MB 7.3 MB/s eta 0:00:02\n",
      "   --------------------------- ------------ 30.1/44.0 MB 7.3 MB/s eta 0:00:02\n",
      "   --------------------------- ------------ 30.4/44.0 MB 7.3 MB/s eta 0:00:02\n",
      "   ---------------------------- ----------- 30.8/44.0 MB 7.3 MB/s eta 0:00:02\n",
      "   ---------------------------- ----------- 31.1/44.0 MB 7.3 MB/s eta 0:00:02\n",
      "   ---------------------------- ----------- 31.5/44.0 MB 7.4 MB/s eta 0:00:02\n",
      "   ---------------------------- ----------- 31.8/44.0 MB 7.3 MB/s eta 0:00:02\n",
      "   ----------------------------- ---------- 32.2/44.0 MB 7.3 MB/s eta 0:00:02\n",
      "   ----------------------------- ---------- 32.5/44.0 MB 7.3 MB/s eta 0:00:02\n",
      "   ----------------------------- ---------- 32.9/44.0 MB 7.3 MB/s eta 0:00:02\n",
      "   ------------------------------ --------- 33.2/44.0 MB 7.3 MB/s eta 0:00:02\n",
      "   ------------------------------ --------- 33.6/44.0 MB 7.4 MB/s eta 0:00:02\n",
      "   ------------------------------ --------- 33.9/44.0 MB 7.4 MB/s eta 0:00:02\n",
      "   ------------------------------- -------- 34.3/44.0 MB 7.4 MB/s eta 0:00:02\n",
      "   ------------------------------- -------- 34.6/44.0 MB 7.4 MB/s eta 0:00:02\n",
      "   ------------------------------- -------- 35.0/44.0 MB 7.4 MB/s eta 0:00:02\n",
      "   -------------------------------- ------- 35.3/44.0 MB 7.4 MB/s eta 0:00:02\n",
      "   -------------------------------- ------- 35.7/44.0 MB 7.4 MB/s eta 0:00:02\n",
      "   -------------------------------- ------- 36.0/44.0 MB 7.4 MB/s eta 0:00:02\n",
      "   --------------------------------- ------ 36.4/44.0 MB 7.4 MB/s eta 0:00:02\n",
      "   --------------------------------- ------ 36.7/44.0 MB 7.4 MB/s eta 0:00:01\n",
      "   --------------------------------- ------ 37.1/44.0 MB 7.4 MB/s eta 0:00:01\n",
      "   ---------------------------------- ----- 37.4/44.0 MB 7.4 MB/s eta 0:00:01\n",
      "   ---------------------------------- ----- 37.8/44.0 MB 7.4 MB/s eta 0:00:01\n",
      "   ---------------------------------- ----- 38.1/44.0 MB 7.4 MB/s eta 0:00:01\n",
      "   ----------------------------------- ---- 38.5/44.0 MB 7.4 MB/s eta 0:00:01\n",
      "   ----------------------------------- ---- 38.8/44.0 MB 7.4 MB/s eta 0:00:01\n",
      "   ----------------------------------- ---- 39.2/44.0 MB 7.5 MB/s eta 0:00:01\n",
      "   ----------------------------------- ---- 39.5/44.0 MB 7.5 MB/s eta 0:00:01\n",
      "   ------------------------------------ --- 39.9/44.0 MB 7.5 MB/s eta 0:00:01\n",
      "   ------------------------------------ --- 40.2/44.0 MB 7.6 MB/s eta 0:00:01\n",
      "   ------------------------------------ --- 40.6/44.0 MB 7.6 MB/s eta 0:00:01\n",
      "   ------------------------------------- -- 40.9/44.0 MB 7.6 MB/s eta 0:00:01\n",
      "   ------------------------------------- -- 41.3/44.0 MB 7.6 MB/s eta 0:00:01\n",
      "   ------------------------------------- -- 41.6/44.0 MB 7.6 MB/s eta 0:00:01\n",
      "   -------------------------------------- - 42.0/44.0 MB 7.6 MB/s eta 0:00:01\n",
      "   -------------------------------------- - 42.3/44.0 MB 7.6 MB/s eta 0:00:01\n",
      "   -------------------------------------- - 42.6/44.0 MB 7.6 MB/s eta 0:00:01\n",
      "   ---------------------------------------  43.0/44.0 MB 7.6 MB/s eta 0:00:01\n",
      "   ---------------------------------------  43.1/44.0 MB 7.6 MB/s eta 0:00:01\n",
      "   ---------------------------------------  43.7/44.0 MB 7.6 MB/s eta 0:00:01\n",
      "   ---------------------------------------  44.0/44.0 MB 7.6 MB/s eta 0:00:01\n",
      "   ---------------------------------------  44.0/44.0 MB 7.6 MB/s eta 0:00:01\n",
      "   ---------------------------------------  44.0/44.0 MB 7.6 MB/s eta 0:00:01\n",
      "   ---------------------------------------  44.0/44.0 MB 7.6 MB/s eta 0:00:01\n",
      "   ---------------------------------------  44.0/44.0 MB 7.6 MB/s eta 0:00:01\n",
      "   ---------------------------------------  44.0/44.0 MB 7.6 MB/s eta 0:00:01\n",
      "   ---------------------------------------  44.0/44.0 MB 7.6 MB/s eta 0:00:01\n",
      "   ---------------------------------------  44.0/44.0 MB 7.6 MB/s eta 0:00:01\n",
      "   ---------------------------------------  44.0/44.0 MB 7.6 MB/s eta 0:00:01\n",
      "   ---------------------------------------  44.0/44.0 MB 7.6 MB/s eta 0:00:01\n",
      "   ---------------------------------------  44.0/44.0 MB 7.6 MB/s eta 0:00:01\n",
      "   ---------------------------------------  44.0/44.0 MB 7.6 MB/s eta 0:00:01\n",
      "   ---------------------------------------  44.0/44.0 MB 7.6 MB/s eta 0:00:01\n",
      "   ---------------------------------------  44.0/44.0 MB 7.6 MB/s eta 0:00:01\n",
      "   ---------------------------------------  44.0/44.0 MB 7.6 MB/s eta 0:00:01\n",
      "   ---------------------------------------  44.0/44.0 MB 7.6 MB/s eta 0:00:01\n",
      "   ---------------------------------------  44.0/44.0 MB 7.6 MB/s eta 0:00:01\n",
      "   ---------------------------------------  44.0/44.0 MB 7.6 MB/s eta 0:00:01\n",
      "   ---------------------------------------  44.0/44.0 MB 7.6 MB/s eta 0:00:01\n",
      "   ---------------------------------------  44.0/44.0 MB 7.6 MB/s eta 0:00:01\n",
      "   ---------------------------------------  44.0/44.0 MB 7.6 MB/s eta 0:00:01\n",
      "   ---------------------------------------  44.0/44.0 MB 7.6 MB/s eta 0:00:01\n",
      "   ---------------------------------------  44.0/44.0 MB 7.6 MB/s eta 0:00:01\n",
      "   ---------------------------------------  44.0/44.0 MB 7.6 MB/s eta 0:00:01\n",
      "   ---------------------------------------  44.0/44.0 MB 7.6 MB/s eta 0:00:01\n",
      "   ---------------------------------------  44.0/44.0 MB 7.6 MB/s eta 0:00:01\n",
      "   ---------------------------------------  44.0/44.0 MB 7.6 MB/s eta 0:00:01\n",
      "   ---------------------------------------  44.0/44.0 MB 7.6 MB/s eta 0:00:01\n",
      "   ---------------------------------------  44.0/44.0 MB 7.6 MB/s eta 0:00:01\n",
      "   ---------------------------------------  44.0/44.0 MB 7.6 MB/s eta 0:00:01\n",
      "   ---------------------------------------  44.0/44.0 MB 7.6 MB/s eta 0:00:01\n",
      "   ---------------------------------------  44.0/44.0 MB 7.6 MB/s eta 0:00:01\n",
      "   ---------------------------------------  44.0/44.0 MB 7.6 MB/s eta 0:00:01\n",
      "   ---------------------------------------  44.0/44.0 MB 7.6 MB/s eta 0:00:01\n",
      "   ---------------------------------------  44.0/44.0 MB 7.6 MB/s eta 0:00:01\n",
      "   ---------------------------------------  44.0/44.0 MB 7.6 MB/s eta 0:00:01\n",
      "   ---------------------------------------  44.0/44.0 MB 7.6 MB/s eta 0:00:01\n",
      "   ---------------------------------------  44.0/44.0 MB 7.6 MB/s eta 0:00:01\n",
      "   ---------------------------------------  44.0/44.0 MB 7.6 MB/s eta 0:00:01\n",
      "   ---------------------------------------  44.0/44.0 MB 7.6 MB/s eta 0:00:01\n",
      "   ---------------------------------------  44.0/44.0 MB 7.6 MB/s eta 0:00:01\n",
      "   ---------------------------------------  44.0/44.0 MB 7.6 MB/s eta 0:00:01\n",
      "   ---------------------------------------  44.0/44.0 MB 7.6 MB/s eta 0:00:01\n",
      "   ---------------------------------------  44.0/44.0 MB 7.6 MB/s eta 0:00:01\n",
      "   ---------------------------------------  44.0/44.0 MB 7.6 MB/s eta 0:00:01\n",
      "   ---------------------------------------  44.0/44.0 MB 7.6 MB/s eta 0:00:01\n",
      "   ---------------------------------------  44.0/44.0 MB 7.6 MB/s eta 0:00:01\n",
      "   ---------------------------------------  44.0/44.0 MB 7.6 MB/s eta 0:00:01\n",
      "   ---------------------------------------  44.0/44.0 MB 7.6 MB/s eta 0:00:01\n",
      "   ---------------------------------------  44.0/44.0 MB 7.6 MB/s eta 0:00:01\n",
      "   ---------------------------------------  44.0/44.0 MB 7.6 MB/s eta 0:00:01\n",
      "   ---------------------------------------  44.0/44.0 MB 7.6 MB/s eta 0:00:01\n",
      "   ---------------------------------------  44.0/44.0 MB 7.6 MB/s eta 0:00:01\n",
      "   ---------------------------------------  44.0/44.0 MB 7.6 MB/s eta 0:00:01\n",
      "   ---------------------------------------  44.0/44.0 MB 7.6 MB/s eta 0:00:01\n",
      "   ---------------------------------------  44.0/44.0 MB 7.6 MB/s eta 0:00:01\n",
      "   ---------------------------------------  44.0/44.0 MB 7.6 MB/s eta 0:00:01\n",
      "   ---------------------------------------  44.0/44.0 MB 7.6 MB/s eta 0:00:01\n",
      "   ---------------------------------------  44.0/44.0 MB 7.6 MB/s eta 0:00:01\n",
      "   ---------------------------------------  44.0/44.0 MB 7.6 MB/s eta 0:00:01\n",
      "   ---------------------------------------  44.0/44.0 MB 7.6 MB/s eta 0:00:01\n",
      "   ---------------------------------------  44.0/44.0 MB 7.6 MB/s eta 0:00:01\n",
      "   ---------------------------------------  44.0/44.0 MB 7.6 MB/s eta 0:00:01\n",
      "   ---------------------------------------  44.0/44.0 MB 7.6 MB/s eta 0:00:01\n",
      "   ---------------------------------------  44.0/44.0 MB 7.6 MB/s eta 0:00:01\n",
      "   ---------------------------------------  44.0/44.0 MB 7.6 MB/s eta 0:00:01\n",
      "   ---------------------------------------  44.0/44.0 MB 7.6 MB/s eta 0:00:01\n",
      "   ---------------------------------------  44.0/44.0 MB 7.6 MB/s eta 0:00:01\n",
      "   ---------------------------------------  44.0/44.0 MB 7.6 MB/s eta 0:00:01\n",
      "   ---------------------------------------  44.0/44.0 MB 7.6 MB/s eta 0:00:01\n",
      "   ---------------------------------------  44.0/44.0 MB 7.6 MB/s eta 0:00:01\n",
      "   ---------------------------------------  44.0/44.0 MB 7.6 MB/s eta 0:00:01\n",
      "   ---------------------------------------  44.0/44.0 MB 7.6 MB/s eta 0:00:01\n",
      "   ---------------------------------------  44.0/44.0 MB 7.6 MB/s eta 0:00:01\n",
      "   ---------------------------------------  44.0/44.0 MB 7.6 MB/s eta 0:00:01\n",
      "   ---------------------------------------  44.0/44.0 MB 7.6 MB/s eta 0:00:01\n",
      "   ---------------------------------------  44.0/44.0 MB 7.6 MB/s eta 0:00:01\n",
      "   ---------------------------------------  44.0/44.0 MB 7.6 MB/s eta 0:00:01\n",
      "   ---------------------------------------  44.0/44.0 MB 7.6 MB/s eta 0:00:01\n",
      "   ---------------------------------------  44.0/44.0 MB 7.6 MB/s eta 0:00:01\n",
      "   ---------------------------------------  44.0/44.0 MB 7.6 MB/s eta 0:00:01\n",
      "   ---------------------------------------  44.0/44.0 MB 7.6 MB/s eta 0:00:01\n",
      "   ---------------------------------------  44.0/44.0 MB 7.6 MB/s eta 0:00:01\n",
      "   ---------------------------------------  44.0/44.0 MB 7.6 MB/s eta 0:00:01\n",
      "   ---------------------------------------  44.0/44.0 MB 7.6 MB/s eta 0:00:01\n",
      "   ---------------------------------------  44.0/44.0 MB 7.6 MB/s eta 0:00:01\n",
      "   ---------------------------------------  44.0/44.0 MB 7.6 MB/s eta 0:00:01\n",
      "   ---------------------------------------  44.0/44.0 MB 7.6 MB/s eta 0:00:01\n",
      "   ---------------------------------------  44.0/44.0 MB 7.6 MB/s eta 0:00:01\n",
      "   ---------------------------------------  44.0/44.0 MB 7.6 MB/s eta 0:00:01\n",
      "   ---------------------------------------  44.0/44.0 MB 7.6 MB/s eta 0:00:01\n",
      "   ---------------------------------------  44.0/44.0 MB 7.6 MB/s eta 0:00:01\n",
      "   ---------------------------------------  44.0/44.0 MB 7.6 MB/s eta 0:00:01\n",
      "   ---------------------------------------  44.0/44.0 MB 7.6 MB/s eta 0:00:01\n",
      "   ---------------------------------------  44.0/44.0 MB 7.6 MB/s eta 0:00:01\n",
      "   ---------------------------------------  44.0/44.0 MB 7.6 MB/s eta 0:00:01\n",
      "   ---------------------------------------  44.0/44.0 MB 7.6 MB/s eta 0:00:01\n",
      "   ---------------------------------------- 44.0/44.0 MB 1.7 MB/s eta 0:00:00\n",
      "Downloading threadpoolctl-3.2.0-py3-none-any.whl (15 kB)\n",
      "Installing collected packages: threadpoolctl, scipy, joblib, scikit-learn\n",
      "Successfully installed joblib-1.3.1 scikit-learn-1.3.0 scipy-1.11.1 threadpoolctl-3.2.0\n",
      "Collecting imbalanced-learn\n",
      "  Obtaining dependency information for imbalanced-learn from https://files.pythonhosted.org/packages/a3/9e/fbe60a768502af54563dcb59ca7856f5a8833b3ad5ada658922e1ab09b7f/imbalanced_learn-0.11.0-py3-none-any.whl.metadata\n",
      "  Downloading imbalanced_learn-0.11.0-py3-none-any.whl.metadata (8.3 kB)\n",
      "Requirement already satisfied: numpy>=1.17.3 in c:\\users\\ramzi\\anaconda3\\envs\\reset_env\\lib\\site-packages (from imbalanced-learn) (1.25.2)\n",
      "Requirement already satisfied: scipy>=1.5.0 in c:\\users\\ramzi\\anaconda3\\envs\\reset_env\\lib\\site-packages (from imbalanced-learn) (1.11.1)\n",
      "Requirement already satisfied: scikit-learn>=1.0.2 in c:\\users\\ramzi\\anaconda3\\envs\\reset_env\\lib\\site-packages (from imbalanced-learn) (1.3.0)\n",
      "Requirement already satisfied: joblib>=1.1.1 in c:\\users\\ramzi\\anaconda3\\envs\\reset_env\\lib\\site-packages (from imbalanced-learn) (1.3.1)\n",
      "Requirement already satisfied: threadpoolctl>=2.0.0 in c:\\users\\ramzi\\anaconda3\\envs\\reset_env\\lib\\site-packages (from imbalanced-learn) (3.2.0)\n",
      "Downloading imbalanced_learn-0.11.0-py3-none-any.whl (235 kB)\n",
      "   ---------------------------------------- 0.0/235.6 kB ? eta -:--:--\n",
      "   - -------------------------------------- 10.2/235.6 kB ? eta -:--:--\n",
      "   ----- --------------------------------- 30.7/235.6 kB 435.7 kB/s eta 0:00:01\n",
      "   ------------------ ------------------- 112.6/235.6 kB 939.4 kB/s eta 0:00:01\n",
      "   ---------------------------------------- 235.6/235.6 kB 1.8 MB/s eta 0:00:00\n",
      "Installing collected packages: imbalanced-learn\n",
      "Successfully installed imbalanced-learn-0.11.0\n"
     ]
    }
   ],
   "source": [
    "!pip install numpy\n",
    "!pip install pandas\n",
    "!pip install scikit-learn\n",
    "!pip install imbalanced-learn\n"
   ]
  },
  {
   "cell_type": "code",
   "execution_count": 5,
   "metadata": {
    "tags": []
   },
   "outputs": [],
   "source": [
    "# Import the modules\n",
    "import numpy as np\n",
    "import pandas as pd\n",
    "from pathlib import Path\n",
    "from sklearn.metrics import balanced_accuracy_score\n",
    "from sklearn.metrics import confusion_matrix\n",
    "from imblearn.metrics import classification_report_imbalanced\n",
    "\n",
    "import warnings\n",
    "warnings.filterwarnings('ignore')"
   ]
  },
  {
   "cell_type": "code",
   "execution_count": null,
   "metadata": {},
   "outputs": [],
   "source": []
  },
  {
   "cell_type": "markdown",
   "metadata": {},
   "source": [
    "---"
   ]
  },
  {
   "cell_type": "markdown",
   "metadata": {},
   "source": [
    "## Split the Data into Training and Testing Sets"
   ]
  },
  {
   "cell_type": "markdown",
   "metadata": {},
   "source": [
    "### Step 1: Read the `lending_data.csv` data from the `Resources` folder into a Pandas DataFrame."
   ]
  },
  {
   "cell_type": "code",
   "execution_count": 6,
   "metadata": {
    "tags": []
   },
   "outputs": [
    {
     "data": {
      "text/html": [
       "<div>\n",
       "<style scoped>\n",
       "    .dataframe tbody tr th:only-of-type {\n",
       "        vertical-align: middle;\n",
       "    }\n",
       "\n",
       "    .dataframe tbody tr th {\n",
       "        vertical-align: top;\n",
       "    }\n",
       "\n",
       "    .dataframe thead th {\n",
       "        text-align: right;\n",
       "    }\n",
       "</style>\n",
       "<table border=\"1\" class=\"dataframe\">\n",
       "  <thead>\n",
       "    <tr style=\"text-align: right;\">\n",
       "      <th></th>\n",
       "      <th>loan_size</th>\n",
       "      <th>interest_rate</th>\n",
       "      <th>borrower_income</th>\n",
       "      <th>debt_to_income</th>\n",
       "      <th>num_of_accounts</th>\n",
       "      <th>derogatory_marks</th>\n",
       "      <th>total_debt</th>\n",
       "      <th>loan_status</th>\n",
       "    </tr>\n",
       "  </thead>\n",
       "  <tbody>\n",
       "    <tr>\n",
       "      <th>0</th>\n",
       "      <td>10700.0</td>\n",
       "      <td>7.672</td>\n",
       "      <td>52800</td>\n",
       "      <td>0.431818</td>\n",
       "      <td>5</td>\n",
       "      <td>1</td>\n",
       "      <td>22800</td>\n",
       "      <td>0</td>\n",
       "    </tr>\n",
       "    <tr>\n",
       "      <th>1</th>\n",
       "      <td>8400.0</td>\n",
       "      <td>6.692</td>\n",
       "      <td>43600</td>\n",
       "      <td>0.311927</td>\n",
       "      <td>3</td>\n",
       "      <td>0</td>\n",
       "      <td>13600</td>\n",
       "      <td>0</td>\n",
       "    </tr>\n",
       "    <tr>\n",
       "      <th>2</th>\n",
       "      <td>9000.0</td>\n",
       "      <td>6.963</td>\n",
       "      <td>46100</td>\n",
       "      <td>0.349241</td>\n",
       "      <td>3</td>\n",
       "      <td>0</td>\n",
       "      <td>16100</td>\n",
       "      <td>0</td>\n",
       "    </tr>\n",
       "    <tr>\n",
       "      <th>3</th>\n",
       "      <td>10700.0</td>\n",
       "      <td>7.664</td>\n",
       "      <td>52700</td>\n",
       "      <td>0.430740</td>\n",
       "      <td>5</td>\n",
       "      <td>1</td>\n",
       "      <td>22700</td>\n",
       "      <td>0</td>\n",
       "    </tr>\n",
       "    <tr>\n",
       "      <th>4</th>\n",
       "      <td>10800.0</td>\n",
       "      <td>7.698</td>\n",
       "      <td>53000</td>\n",
       "      <td>0.433962</td>\n",
       "      <td>5</td>\n",
       "      <td>1</td>\n",
       "      <td>23000</td>\n",
       "      <td>0</td>\n",
       "    </tr>\n",
       "  </tbody>\n",
       "</table>\n",
       "</div>"
      ],
      "text/plain": [
       "   loan_size  interest_rate  borrower_income  debt_to_income  num_of_accounts  \\\n",
       "0    10700.0          7.672            52800        0.431818                5   \n",
       "1     8400.0          6.692            43600        0.311927                3   \n",
       "2     9000.0          6.963            46100        0.349241                3   \n",
       "3    10700.0          7.664            52700        0.430740                5   \n",
       "4    10800.0          7.698            53000        0.433962                5   \n",
       "\n",
       "   derogatory_marks  total_debt  loan_status  \n",
       "0                 1       22800            0  \n",
       "1                 0       13600            0  \n",
       "2                 0       16100            0  \n",
       "3                 1       22700            0  \n",
       "4                 1       23000            0  "
      ]
     },
     "execution_count": 6,
     "metadata": {},
     "output_type": "execute_result"
    }
   ],
   "source": [
    "# Read the CSV file from the Resources folder into a Pandas DataFrame\n",
    "file_path = Path(r'C:\\Users\\RAMZI\\Desktop/BootCamp/Module 12/Starter_Code/Resources/lending_data.csv')\n",
    "\n",
    "# Review the DataFrame\n",
    "lending_data = pd.read_csv(file_path)\n",
    "\n",
    "lending_data.head()"
   ]
  },
  {
   "cell_type": "markdown",
   "metadata": {},
   "source": [
    "### Step 2: Create the labels set (`y`)  from the “loan_status” column, and then create the features (`X`) DataFrame from the remaining columns."
   ]
  },
  {
   "cell_type": "code",
   "execution_count": 8,
   "metadata": {
    "tags": []
   },
   "outputs": [],
   "source": [
    "# Separate the data into labels and features\n",
    "\n",
    "# Separate the y variable, the labels\n",
    "y = lending_data['loan_status']\n",
    "\n",
    "# Separate the X variable, the features\n",
    "X = lending_data.drop(columns=['loan_status'])\n"
   ]
  },
  {
   "cell_type": "code",
   "execution_count": 9,
   "metadata": {
    "tags": []
   },
   "outputs": [
    {
     "name": "stdout",
     "output_type": "stream",
     "text": [
      "y (Labels):\n",
      "0    0\n",
      "1    0\n",
      "2    0\n",
      "3    0\n",
      "4    0\n",
      "Name: loan_status, dtype: int64\n"
     ]
    }
   ],
   "source": [
    "# Review the y variable Series\n",
    "print(\"y (Labels):\")\n",
    "print(y.head())"
   ]
  },
  {
   "cell_type": "code",
   "execution_count": 11,
   "metadata": {
    "tags": []
   },
   "outputs": [
    {
     "name": "stdout",
     "output_type": "stream",
     "text": [
      "\n",
      "X (Features):\n"
     ]
    },
    {
     "data": {
      "text/html": [
       "<div>\n",
       "<style scoped>\n",
       "    .dataframe tbody tr th:only-of-type {\n",
       "        vertical-align: middle;\n",
       "    }\n",
       "\n",
       "    .dataframe tbody tr th {\n",
       "        vertical-align: top;\n",
       "    }\n",
       "\n",
       "    .dataframe thead th {\n",
       "        text-align: right;\n",
       "    }\n",
       "</style>\n",
       "<table border=\"1\" class=\"dataframe\">\n",
       "  <thead>\n",
       "    <tr style=\"text-align: right;\">\n",
       "      <th></th>\n",
       "      <th>loan_size</th>\n",
       "      <th>interest_rate</th>\n",
       "      <th>borrower_income</th>\n",
       "      <th>debt_to_income</th>\n",
       "      <th>num_of_accounts</th>\n",
       "      <th>derogatory_marks</th>\n",
       "      <th>total_debt</th>\n",
       "    </tr>\n",
       "  </thead>\n",
       "  <tbody>\n",
       "    <tr>\n",
       "      <th>0</th>\n",
       "      <td>10700.0</td>\n",
       "      <td>7.672</td>\n",
       "      <td>52800</td>\n",
       "      <td>0.431818</td>\n",
       "      <td>5</td>\n",
       "      <td>1</td>\n",
       "      <td>22800</td>\n",
       "    </tr>\n",
       "    <tr>\n",
       "      <th>1</th>\n",
       "      <td>8400.0</td>\n",
       "      <td>6.692</td>\n",
       "      <td>43600</td>\n",
       "      <td>0.311927</td>\n",
       "      <td>3</td>\n",
       "      <td>0</td>\n",
       "      <td>13600</td>\n",
       "    </tr>\n",
       "    <tr>\n",
       "      <th>2</th>\n",
       "      <td>9000.0</td>\n",
       "      <td>6.963</td>\n",
       "      <td>46100</td>\n",
       "      <td>0.349241</td>\n",
       "      <td>3</td>\n",
       "      <td>0</td>\n",
       "      <td>16100</td>\n",
       "    </tr>\n",
       "    <tr>\n",
       "      <th>3</th>\n",
       "      <td>10700.0</td>\n",
       "      <td>7.664</td>\n",
       "      <td>52700</td>\n",
       "      <td>0.430740</td>\n",
       "      <td>5</td>\n",
       "      <td>1</td>\n",
       "      <td>22700</td>\n",
       "    </tr>\n",
       "    <tr>\n",
       "      <th>4</th>\n",
       "      <td>10800.0</td>\n",
       "      <td>7.698</td>\n",
       "      <td>53000</td>\n",
       "      <td>0.433962</td>\n",
       "      <td>5</td>\n",
       "      <td>1</td>\n",
       "      <td>23000</td>\n",
       "    </tr>\n",
       "  </tbody>\n",
       "</table>\n",
       "</div>"
      ],
      "text/plain": [
       "   loan_size  interest_rate  borrower_income  debt_to_income  num_of_accounts  \\\n",
       "0    10700.0          7.672            52800        0.431818                5   \n",
       "1     8400.0          6.692            43600        0.311927                3   \n",
       "2     9000.0          6.963            46100        0.349241                3   \n",
       "3    10700.0          7.664            52700        0.430740                5   \n",
       "4    10800.0          7.698            53000        0.433962                5   \n",
       "\n",
       "   derogatory_marks  total_debt  \n",
       "0                 1       22800  \n",
       "1                 0       13600  \n",
       "2                 0       16100  \n",
       "3                 1       22700  \n",
       "4                 1       23000  "
      ]
     },
     "execution_count": 11,
     "metadata": {},
     "output_type": "execute_result"
    }
   ],
   "source": [
    "# Review the X variable DataFrame\n",
    "print(\"\\nX (Features):\")\n",
    "X.head()"
   ]
  },
  {
   "cell_type": "markdown",
   "metadata": {},
   "source": [
    "### Step 3: Check the balance of the labels variable (`y`) by using the `value_counts` function."
   ]
  },
  {
   "cell_type": "code",
   "execution_count": 12,
   "metadata": {
    "tags": []
   },
   "outputs": [
    {
     "name": "stdout",
     "output_type": "stream",
     "text": [
      "loan_status\n",
      "0    75036\n",
      "1     2500\n",
      "Name: count, dtype: int64\n"
     ]
    }
   ],
   "source": [
    "# Check the balance of our target values\n",
    "target_balance = y.value_counts()\n",
    "print(target_balance)\n"
   ]
  },
  {
   "cell_type": "markdown",
   "metadata": {},
   "source": [
    "### Step 4: Split the data into training and testing datasets by using `train_test_split`."
   ]
  },
  {
   "cell_type": "code",
   "execution_count": 15,
   "metadata": {
    "tags": []
   },
   "outputs": [],
   "source": [
    "# Import the train_test_learn module\n",
    "from sklearn.model_selection import train_test_split\n",
    "\n",
    "# Split the data using train_test_split\n",
    "# Assign a random_state of 1 to the function\n",
    "X_train, X_test, y_train, y_test = train_test_split(X, y, random_state=1)\n",
    "\n",
    "\n"
   ]
  },
  {
   "cell_type": "markdown",
   "metadata": {},
   "source": [
    "---"
   ]
  },
  {
   "cell_type": "markdown",
   "metadata": {},
   "source": [
    "## Create a Logistic Regression Model with the Original Data"
   ]
  },
  {
   "cell_type": "markdown",
   "metadata": {},
   "source": [
    "###  Step 1: Fit a logistic regression model by using the training data (`X_train` and `y_train`)."
   ]
  },
  {
   "cell_type": "code",
   "execution_count": 16,
   "metadata": {
    "tags": []
   },
   "outputs": [
    {
     "data": {
      "text/html": [
       "<style>#sk-container-id-1 {color: black;}#sk-container-id-1 pre{padding: 0;}#sk-container-id-1 div.sk-toggleable {background-color: white;}#sk-container-id-1 label.sk-toggleable__label {cursor: pointer;display: block;width: 100%;margin-bottom: 0;padding: 0.3em;box-sizing: border-box;text-align: center;}#sk-container-id-1 label.sk-toggleable__label-arrow:before {content: \"▸\";float: left;margin-right: 0.25em;color: #696969;}#sk-container-id-1 label.sk-toggleable__label-arrow:hover:before {color: black;}#sk-container-id-1 div.sk-estimator:hover label.sk-toggleable__label-arrow:before {color: black;}#sk-container-id-1 div.sk-toggleable__content {max-height: 0;max-width: 0;overflow: hidden;text-align: left;background-color: #f0f8ff;}#sk-container-id-1 div.sk-toggleable__content pre {margin: 0.2em;color: black;border-radius: 0.25em;background-color: #f0f8ff;}#sk-container-id-1 input.sk-toggleable__control:checked~div.sk-toggleable__content {max-height: 200px;max-width: 100%;overflow: auto;}#sk-container-id-1 input.sk-toggleable__control:checked~label.sk-toggleable__label-arrow:before {content: \"▾\";}#sk-container-id-1 div.sk-estimator input.sk-toggleable__control:checked~label.sk-toggleable__label {background-color: #d4ebff;}#sk-container-id-1 div.sk-label input.sk-toggleable__control:checked~label.sk-toggleable__label {background-color: #d4ebff;}#sk-container-id-1 input.sk-hidden--visually {border: 0;clip: rect(1px 1px 1px 1px);clip: rect(1px, 1px, 1px, 1px);height: 1px;margin: -1px;overflow: hidden;padding: 0;position: absolute;width: 1px;}#sk-container-id-1 div.sk-estimator {font-family: monospace;background-color: #f0f8ff;border: 1px dotted black;border-radius: 0.25em;box-sizing: border-box;margin-bottom: 0.5em;}#sk-container-id-1 div.sk-estimator:hover {background-color: #d4ebff;}#sk-container-id-1 div.sk-parallel-item::after {content: \"\";width: 100%;border-bottom: 1px solid gray;flex-grow: 1;}#sk-container-id-1 div.sk-label:hover label.sk-toggleable__label {background-color: #d4ebff;}#sk-container-id-1 div.sk-serial::before {content: \"\";position: absolute;border-left: 1px solid gray;box-sizing: border-box;top: 0;bottom: 0;left: 50%;z-index: 0;}#sk-container-id-1 div.sk-serial {display: flex;flex-direction: column;align-items: center;background-color: white;padding-right: 0.2em;padding-left: 0.2em;position: relative;}#sk-container-id-1 div.sk-item {position: relative;z-index: 1;}#sk-container-id-1 div.sk-parallel {display: flex;align-items: stretch;justify-content: center;background-color: white;position: relative;}#sk-container-id-1 div.sk-item::before, #sk-container-id-1 div.sk-parallel-item::before {content: \"\";position: absolute;border-left: 1px solid gray;box-sizing: border-box;top: 0;bottom: 0;left: 50%;z-index: -1;}#sk-container-id-1 div.sk-parallel-item {display: flex;flex-direction: column;z-index: 1;position: relative;background-color: white;}#sk-container-id-1 div.sk-parallel-item:first-child::after {align-self: flex-end;width: 50%;}#sk-container-id-1 div.sk-parallel-item:last-child::after {align-self: flex-start;width: 50%;}#sk-container-id-1 div.sk-parallel-item:only-child::after {width: 0;}#sk-container-id-1 div.sk-dashed-wrapped {border: 1px dashed gray;margin: 0 0.4em 0.5em 0.4em;box-sizing: border-box;padding-bottom: 0.4em;background-color: white;}#sk-container-id-1 div.sk-label label {font-family: monospace;font-weight: bold;display: inline-block;line-height: 1.2em;}#sk-container-id-1 div.sk-label-container {text-align: center;}#sk-container-id-1 div.sk-container {/* jupyter's `normalize.less` sets `[hidden] { display: none; }` but bootstrap.min.css set `[hidden] { display: none !important; }` so we also need the `!important` here to be able to override the default hidden behavior on the sphinx rendered scikit-learn.org. See: https://github.com/scikit-learn/scikit-learn/issues/21755 */display: inline-block !important;position: relative;}#sk-container-id-1 div.sk-text-repr-fallback {display: none;}</style><div id=\"sk-container-id-1\" class=\"sk-top-container\"><div class=\"sk-text-repr-fallback\"><pre>LogisticRegression(random_state=1)</pre><b>In a Jupyter environment, please rerun this cell to show the HTML representation or trust the notebook. <br />On GitHub, the HTML representation is unable to render, please try loading this page with nbviewer.org.</b></div><div class=\"sk-container\" hidden><div class=\"sk-item\"><div class=\"sk-estimator sk-toggleable\"><input class=\"sk-toggleable__control sk-hidden--visually\" id=\"sk-estimator-id-1\" type=\"checkbox\" checked><label for=\"sk-estimator-id-1\" class=\"sk-toggleable__label sk-toggleable__label-arrow\">LogisticRegression</label><div class=\"sk-toggleable__content\"><pre>LogisticRegression(random_state=1)</pre></div></div></div></div></div>"
      ],
      "text/plain": [
       "LogisticRegression(random_state=1)"
      ]
     },
     "execution_count": 16,
     "metadata": {},
     "output_type": "execute_result"
    }
   ],
   "source": [
    "# Import the LogisticRegression module from SKLearn\n",
    "from sklearn.linear_model import LogisticRegression\n",
    "\n",
    "# Instantiate the Logistic Regression model\n",
    "# Assign a random_state parameter of 1 to the model\n",
    "logreg_model = LogisticRegression(random_state=1)\n",
    "\n",
    "# Fit the model using training data\n",
    "logreg_model.fit(X_train, y_train)\n"
   ]
  },
  {
   "cell_type": "markdown",
   "metadata": {},
   "source": [
    "### Step 2: Save the predictions on the testing data labels by using the testing feature data (`X_test`) and the fitted model."
   ]
  },
  {
   "cell_type": "code",
   "execution_count": 17,
   "metadata": {
    "tags": []
   },
   "outputs": [],
   "source": [
    "# Make a prediction using the testing data\n",
    "y_pred = logreg_model.predict(X_test)\n"
   ]
  },
  {
   "cell_type": "markdown",
   "metadata": {},
   "source": [
    "### Step 3: Evaluate the model’s performance by doing the following:\n",
    "\n",
    "* Calculate the accuracy score of the model.\n",
    "\n",
    "* Generate a confusion matrix.\n",
    "\n",
    "* Print the classification report."
   ]
  },
  {
   "cell_type": "code",
   "execution_count": 18,
   "metadata": {
    "tags": []
   },
   "outputs": [
    {
     "name": "stdout",
     "output_type": "stream",
     "text": [
      "Balanced Accuracy: 0.9520479254722232\n"
     ]
    }
   ],
   "source": [
    "# Print the balanced_accuracy score of the model\n",
    "balanced_acc = balanced_accuracy_score(y_test, y_pred)\n",
    "print(\"Balanced Accuracy:\", balanced_acc)"
   ]
  },
  {
   "cell_type": "code",
   "execution_count": 19,
   "metadata": {
    "tags": []
   },
   "outputs": [
    {
     "name": "stdout",
     "output_type": "stream",
     "text": [
      "Confusion Matrix:\n",
      " [[18663   102]\n",
      " [   56   563]]\n"
     ]
    }
   ],
   "source": [
    "# Generate a confusion matrix for the model\n",
    "conf_matrix = confusion_matrix(y_test, y_pred)\n",
    "print(\"Confusion Matrix:\\n\", conf_matrix)"
   ]
  },
  {
   "cell_type": "code",
   "execution_count": 21,
   "metadata": {
    "tags": []
   },
   "outputs": [
    {
     "name": "stdout",
     "output_type": "stream",
     "text": [
      "Classification Report:\n",
      "               precision    recall  f1-score   support\n",
      "\n",
      "           0       1.00      0.99      1.00     18765\n",
      "           1       0.85      0.91      0.88       619\n",
      "\n",
      "    accuracy                           0.99     19384\n",
      "   macro avg       0.92      0.95      0.94     19384\n",
      "weighted avg       0.99      0.99      0.99     19384\n",
      "\n"
     ]
    }
   ],
   "source": [
    "from sklearn.metrics import balanced_accuracy_score, confusion_matrix, classification_report\n",
    "\n",
    "# Print the classification report for the model\n",
    "class_report = classification_report(y_test, y_pred)\n",
    "print(\"Classification Report:\\n\", class_report)"
   ]
  },
  {
   "cell_type": "markdown",
   "metadata": {},
   "source": [
    "### Step 4: Answer the following question."
   ]
  },
  {
   "cell_type": "markdown",
   "metadata": {},
   "source": [
    "**Question:** How well does the logistic regression model predict both the `0` (healthy loan) and `1` (high-risk loan) labels?\n",
    "\n",
    "**Answer:** Based on the classification report, the model performs quite well for both classes. It has high precision and recall for the 1 (high-risk loan) class, indicating that it is effective in identifying high-risk loans.However, it's important to note that the dataset is imbalanced which can lead to an imbalanced interpretation of the model's performance"
   ]
  },
  {
   "cell_type": "markdown",
   "metadata": {},
   "source": [
    "---"
   ]
  },
  {
   "cell_type": "markdown",
   "metadata": {},
   "source": [
    "## Predict a Logistic Regression Model with Resampled Training Data"
   ]
  },
  {
   "cell_type": "markdown",
   "metadata": {},
   "source": [
    "### Step 1: Use the `RandomOverSampler` module from the imbalanced-learn library to resample the data. Be sure to confirm that the labels have an equal number of data points. "
   ]
  },
  {
   "cell_type": "code",
   "execution_count": 22,
   "metadata": {
    "tags": []
   },
   "outputs": [],
   "source": [
    "# Import the RandomOverSampler module form imbalanced-learn\n",
    "from imblearn.over_sampling import RandomOverSampler\n",
    "\n",
    "# Instantiate the random oversampler model\n",
    "# # Assign a random_state parameter of 1 to the model\n",
    "random_oversampler = RandomOverSampler(random_state=1)\n",
    "\n",
    "# Fit the original training data to the random_oversampler model\n",
    "X_resampled, y_resampled = random_oversampler.fit_resample(X_train, y_train)\n"
   ]
  },
  {
   "cell_type": "code",
   "execution_count": 23,
   "metadata": {
    "tags": []
   },
   "outputs": [
    {
     "name": "stdout",
     "output_type": "stream",
     "text": [
      "Class counts after resampling: loan_status\n",
      "0    56271\n",
      "1    56271\n",
      "Name: count, dtype: int64\n"
     ]
    }
   ],
   "source": [
    "# Count the distinct values of the resampled labels data\n",
    "print(\"Class counts after resampling:\", y_resampled.value_counts())\n"
   ]
  },
  {
   "cell_type": "markdown",
   "metadata": {},
   "source": [
    "### Step 2: Use the `LogisticRegression` classifier and the resampled data to fit the model and make predictions."
   ]
  },
  {
   "cell_type": "code",
   "execution_count": 24,
   "metadata": {
    "tags": []
   },
   "outputs": [],
   "source": [
    "# Instantiate the Logistic Regression model\n",
    "# Assign a random_state parameter of 1 to the model\n",
    "logreg_model_resampled = LogisticRegression(random_state=1)\n",
    "\n",
    "# Fit the model using the resampled training data\n",
    "logreg_model_resampled.fit(X_resampled, y_resampled)\n",
    "\n",
    "# Make a prediction using the testing data\n",
    "y_pred_resampled = logreg_model_resampled.predict(X_test)"
   ]
  },
  {
   "cell_type": "markdown",
   "metadata": {},
   "source": [
    "### Step 3: Evaluate the model’s performance by doing the following:\n",
    "\n",
    "* Calculate the accuracy score of the model.\n",
    "\n",
    "* Generate a confusion matrix.\n",
    "\n",
    "* Print the classification report."
   ]
  },
  {
   "cell_type": "code",
   "execution_count": 25,
   "metadata": {
    "tags": []
   },
   "outputs": [
    {
     "name": "stdout",
     "output_type": "stream",
     "text": [
      "Balanced Accuracy (Resampled): 0.9936781215845847\n"
     ]
    }
   ],
   "source": [
    "# Print the balanced_accuracy score of the model \n",
    "balanced_acc_resampled = balanced_accuracy_score(y_test, y_pred_resampled)\n",
    "print(\"Balanced Accuracy (Resampled):\", balanced_acc_resampled)\n"
   ]
  },
  {
   "cell_type": "code",
   "execution_count": 26,
   "metadata": {
    "tags": []
   },
   "outputs": [
    {
     "name": "stdout",
     "output_type": "stream",
     "text": [
      "Confusion Matrix (Resampled):\n",
      " [[18649   116]\n",
      " [    4   615]]\n"
     ]
    }
   ],
   "source": [
    "# Generate a confusion matrix for the model\n",
    "conf_matrix_resampled = confusion_matrix(y_test, y_pred_resampled)\n",
    "print(\"Confusion Matrix (Resampled):\\n\", conf_matrix_resampled)"
   ]
  },
  {
   "cell_type": "code",
   "execution_count": 27,
   "metadata": {
    "tags": []
   },
   "outputs": [
    {
     "name": "stdout",
     "output_type": "stream",
     "text": [
      "Classification Report (Resampled):\n",
      "               precision    recall  f1-score   support\n",
      "\n",
      "           0       1.00      0.99      1.00     18765\n",
      "           1       0.84      0.99      0.91       619\n",
      "\n",
      "    accuracy                           0.99     19384\n",
      "   macro avg       0.92      0.99      0.95     19384\n",
      "weighted avg       0.99      0.99      0.99     19384\n",
      "\n"
     ]
    }
   ],
   "source": [
    "# Print the classification report for the model\n",
    "class_report_resampled = classification_report(y_test, y_pred_resampled)\n",
    "print(\"Classification Report (Resampled):\\n\", class_report_resampled)"
   ]
  },
  {
   "cell_type": "markdown",
   "metadata": {},
   "source": [
    "### Step 4: Answer the following question"
   ]
  },
  {
   "cell_type": "markdown",
   "metadata": {},
   "source": [
    "**Question:** How well does the logistic regression model, fit with oversampled data, predict both the `0` (healthy loan) and `1` (high-risk loan) labels?\n",
    "\n",
    "**Answer:** The model trained with oversampled data demonstrates strong performance in predicting both healthy loans (0 class) and high-risk loans (1 class). It achieves high precision and recall for the 1 class, indicating its effectiveness in identifying high-risk loans"
   ]
  },
  {
   "cell_type": "code",
   "execution_count": null,
   "metadata": {},
   "outputs": [],
   "source": []
  }
 ],
 "metadata": {
  "kernelspec": {
   "display_name": "Python 3 (ipykernel)",
   "language": "python",
   "name": "python3"
  },
  "language_info": {
   "codemirror_mode": {
    "name": "ipython",
    "version": 3
   },
   "file_extension": ".py",
   "mimetype": "text/x-python",
   "name": "python",
   "nbconvert_exporter": "python",
   "pygments_lexer": "ipython3",
   "version": "3.11.4"
  }
 },
 "nbformat": 4,
 "nbformat_minor": 4
}
